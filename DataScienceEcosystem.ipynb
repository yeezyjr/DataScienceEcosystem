{
 "cells": [
  {
   "cell_type": "markdown",
   "id": "f6357a1f-d205-4c36-af8d-cdddd4b2f157",
   "metadata": {},
   "source": [
    "# Data Science Tools and Ecosystem"
   ]
  },
  {
   "cell_type": "markdown",
   "id": "865be824-41e0-46f0-bd39-10c790ad4c18",
   "metadata": {},
   "source": [
    "In this notebook, Data Science Tools and Ecosystem are summarized."
   ]
  },
  {
   "cell_type": "markdown",
   "id": "3294e334-83ce-4b9c-9fb9-ba0d2151e5b4",
   "metadata": {},
   "source": [
    "Some of the popular languages that Data Scientists use are:\n",
    "1. Python\n",
    "2. SQL\n",
    "3. R\n",
    "4. Java\n",
    "5. C++ etc.."
   ]
  },
  {
   "cell_type": "markdown",
   "id": "0b8328dc-0f7d-4f28-9dd7-3b84d791124d",
   "metadata": {},
   "source": [
    "Some of the commonly used libraries used by Data Scientists include:\n",
    "1. Numpy\n",
    "2. Scipy\n",
    "3. Tensorflow\n",
    "4. Pandas\n",
    "6. Matplotlib etc.."
   ]
  },
  {
   "cell_type": "markdown",
   "id": "efcb0a64-7c69-44a3-a634-c43551f7e9c6",
   "metadata": {},
   "source": [
    " |Data Science Tools|\n",
    " |---|\n",
    " |TensorFlow|\n",
    " |SAS|\n",
    " |Apache Hadoop|"
   ]
  },
  {
   "cell_type": "markdown",
   "id": "32fb7240-f89e-490b-ad9a-1ee5f88f1a0b",
   "metadata": {},
   "source": [
    "### Below are a few examples of evaluating arithmetic expressions in python."
   ]
  },
  {
   "cell_type": "code",
   "execution_count": 6,
   "id": "d1d0f48d-5f86-4f86-aad8-5180fc5366f6",
   "metadata": {},
   "outputs": [
    {
     "data": {
      "text/plain": [
       "17"
      ]
     },
     "execution_count": 6,
     "metadata": {},
     "output_type": "execute_result"
    }
   ],
   "source": [
    "#this is an arithmetic example to multiply and add integers\n",
    "(3*4)+5"
   ]
  },
  {
   "cell_type": "code",
   "execution_count": 7,
   "id": "e6efc2f7-0914-4cb2-8ced-9d8563e46514",
   "metadata": {},
   "outputs": [
    {
     "data": {
      "text/plain": [
       "3.3333333333333335"
      ]
     },
     "execution_count": 7,
     "metadata": {},
     "output_type": "execute_result"
    }
   ],
   "source": [
    "#this will convert 200 minutes to hours by dividng by 60\n",
    "200/60"
   ]
  },
  {
   "cell_type": "markdown",
   "id": "b2e30fb2-20e9-4eea-92d7-89f68293f014",
   "metadata": {},
   "source": [
    "__objective__\n",
    "* List popular languages for Data Science\n",
    "* List popular libraries for Data Science\n",
    "* List of well known Data Science Tools\n",
    "* How to provide comments in a cell"
   ]
  },
  {
   "cell_type": "markdown",
   "id": "8135aed7-ad3d-454f-95c6-8ee7335afbc4",
   "metadata": {},
   "source": [
    "#### Author\n",
    "Okunlola Ayomide Blessing"
   ]
  }
 ],
 "metadata": {
  "kernelspec": {
   "display_name": "Python 3 (ipykernel)",
   "language": "python",
   "name": "python3"
  },
  "language_info": {
   "codemirror_mode": {
    "name": "ipython",
    "version": 3
   },
   "file_extension": ".py",
   "mimetype": "text/x-python",
   "name": "python",
   "nbconvert_exporter": "python",
   "pygments_lexer": "ipython3",
   "version": "3.11.7"
  }
 },
 "nbformat": 4,
 "nbformat_minor": 5
}
